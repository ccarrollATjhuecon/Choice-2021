{
 "cells": [
  {
   "cell_type": "markdown",
   "metadata": {},
   "source": [
    "# Question 3: savings of black and white households\n",
    "\n",
    "The following cell simulates the situation described by the question"
   ]
  },
  {
   "cell_type": "code",
   "execution_count": 1,
   "metadata": {},
   "outputs": [
    {
     "data": {
      "image/png": "[encoded data removed]",
      "text/plain": [
       "<Figure size 432x288 with 1 Axes>"
      ]
     },
     "metadata": {
      "needs_background": "light"
     },
     "output_type": "display_data"
    }
   ],
   "source": [
    "import numpy as np\n",
    "import matplotlib.pyplot as plt\n",
    "\n",
    "# Numer of household sin each group\n",
    "n = 50\n",
    "\n",
    "# Permanent incomes (white > black, but homogeneous)\n",
    "p_w = 4\n",
    "p_b = 3\n",
    "\n",
    "# Transitory income shocks of similar size, and large\n",
    "sigma_trans = 0.8\n",
    "t_w = np.random.normal(0, sigma_trans, n)\n",
    "t_b = np.random.normal(0, sigma_trans, n)\n",
    "\n",
    "# Total incomes\n",
    "y_w, y_b = p_w + t_w, p_b + t_b\n",
    "\n",
    "# Consumption\n",
    "c_w, c_b = p_w, p_b\n",
    "\n",
    "# Saving rates\n",
    "sr_w = (y_w - c_w)/y_w\n",
    "sr_b = (y_b - c_b)/y_b\n",
    "\n",
    "# Plot saving rates as a function of income\n",
    "fig = plt.figure()\n",
    "plt.plot(y_w, sr_w, '*r', label = 'White')\n",
    "plt.plot(y_b, sr_b, '*b', label = 'Black')\n",
    "plt.legend()\n",
    "plt.grid()\n",
    "plt.xlabel('Total income')\n",
    "plt.ylabel('Saving rate')\n",
    "\n",
    "# Export the plot\n",
    "figname = 'BlackWhiteSavingRates'\n",
    "fig.savefig(figname+'.svg')\n",
    "fig.savefig(figname+'.png')\n",
    "fig.savefig(figname+'.pdf')"
   ]
  }
 ],
 "metadata": {
  "jupytext": {
   "formats": "ipynb,py:percent"
  },
  "kernelspec": {
   "display_name": "Python 3",
   "language": "python",
   "name": "python3"
  },
  "language_info": {
   "codemirror_mode": {
    "name": "ipython",
    "version": 3
   },
   "file_extension": ".py",
   "mimetype": "text/x-python",
   "name": "python",
   "nbconvert_exporter": "python",
   "pygments_lexer": "ipython3",
   "version": "3.7.7"
  },
  "latex_envs": {
   "LaTeX_envs_menu_present": true,
   "autoclose": false,
   "autocomplete": true,
   "bibliofile": "biblio.bib",
   "cite_by": "apalike",
   "current_citInitial": 1,
   "eqLabelWithNumbers": true,
   "eqNumInitial": 1,
   "hotkeys": {
    "equation": "Ctrl-E",
    "itemize": "Ctrl-I"
   },
   "labels_anchors": false,
   "latex_user_defs": false,
   "report_style_numbering": false,
   "user_envs_cfg": false
  }
 },
 "nbformat": 4,
 "nbformat_minor": 4
}
